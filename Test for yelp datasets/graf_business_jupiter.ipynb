{
 "cells": [
  {
   "cell_type": "code",
   "execution_count": 1,
   "id": "13ac1012",
   "metadata": {},
   "outputs": [],
   "source": [
    "import json\n",
    "import csv \n",
    "import pandas as pd\n",
    "\n",
    "from rdflib import Graph, Namespace, URIRef, BNode, Literal\n",
    "from rdflib.namespace import RDF, FOAF, XSD"
   ]
  },
  {
   "cell_type": "code",
   "execution_count": 2,
   "id": "2ffbcd09",
   "metadata": {},
   "outputs": [],
   "source": [
    "data_business = []\n",
    "csvfile = []\n",
    "cuisineList = []\n",
    "existdbList = []\n",
    "specialList = []"
   ]
  },
  {
   "cell_type": "code",
   "execution_count": 3,
   "id": "c786d8f3",
   "metadata": {},
   "outputs": [],
   "source": [
    "with open('yelp_academic_dataset_business.json', encoding=\"utf8\") as f:\n",
    "    for line in f:\n",
    "        data_business.append(json.loads(line))\n",
    "df = pd.read_csv('csvData.csv')\n",
    "\n",
    "with open('country_cusine_filtered_list.csv', newline='') as inputfile:\n",
    "    for row in csv.reader(inputfile):\n",
    "        cuisineList.append(row[0])\n",
    "        \n",
    "with open('category_exist_in_db_List.csv', newline='') as inputfile:\n",
    "    for row in csv.reader(inputfile):\n",
    "        existdbList.append(row[0])\n",
    "        \n",
    "with open('distinct_with_specialchar.csv', newline='') as inputfile:\n",
    "    for row in csv.reader(inputfile):\n",
    "        specialList.append(row[0])"
   ]
  },
  {
   "cell_type": "code",
   "execution_count": 4,
   "id": "e8b7403e",
   "metadata": {},
   "outputs": [
    {
     "data": {
      "text/html": [
       "<div>\n",
       "<style scoped>\n",
       "    .dataframe tbody tr th:only-of-type {\n",
       "        vertical-align: middle;\n",
       "    }\n",
       "\n",
       "    .dataframe tbody tr th {\n",
       "        vertical-align: top;\n",
       "    }\n",
       "\n",
       "    .dataframe thead th {\n",
       "        text-align: right;\n",
       "    }\n",
       "</style>\n",
       "<table border=\"1\" class=\"dataframe\">\n",
       "  <thead>\n",
       "    <tr style=\"text-align: right;\">\n",
       "      <th></th>\n",
       "      <th>0</th>\n",
       "      <th>1</th>\n",
       "    </tr>\n",
       "  </thead>\n",
       "  <tbody>\n",
       "    <tr>\n",
       "      <th>0</th>\n",
       "      <td>Doctors</td>\n",
       "      <td>NaN</td>\n",
       "    </tr>\n",
       "    <tr>\n",
       "      <th>1</th>\n",
       "      <td>Acupuncture</td>\n",
       "      <td>NaN</td>\n",
       "    </tr>\n",
       "    <tr>\n",
       "      <th>2</th>\n",
       "      <td>Nutritionists</td>\n",
       "      <td>NaN</td>\n",
       "    </tr>\n",
       "    <tr>\n",
       "      <th>3</th>\n",
       "      <td>Notaries</td>\n",
       "      <td>NaN</td>\n",
       "    </tr>\n",
       "    <tr>\n",
       "      <th>4</th>\n",
       "      <td>Shopping</td>\n",
       "      <td>NaN</td>\n",
       "    </tr>\n",
       "    <tr>\n",
       "      <th>...</th>\n",
       "      <td>...</td>\n",
       "      <td>...</td>\n",
       "    </tr>\n",
       "    <tr>\n",
       "      <th>770</th>\n",
       "      <td>Gerontologists</td>\n",
       "      <td>Gerontologist</td>\n",
       "    </tr>\n",
       "    <tr>\n",
       "      <th>771</th>\n",
       "      <td>Otologists</td>\n",
       "      <td>Otologist</td>\n",
       "    </tr>\n",
       "    <tr>\n",
       "      <th>772</th>\n",
       "      <td>Parklets</td>\n",
       "      <td>Parklet</td>\n",
       "    </tr>\n",
       "    <tr>\n",
       "      <th>773</th>\n",
       "      <td>Neurotologists</td>\n",
       "      <td>Neurotologist</td>\n",
       "    </tr>\n",
       "    <tr>\n",
       "      <th>774</th>\n",
       "      <td>Mohels</td>\n",
       "      <td>Mohel</td>\n",
       "    </tr>\n",
       "  </tbody>\n",
       "</table>\n",
       "<p>775 rows × 2 columns</p>\n",
       "</div>"
      ],
      "text/plain": [
       "                  0              1\n",
       "0           Doctors            NaN\n",
       "1       Acupuncture            NaN\n",
       "2     Nutritionists            NaN\n",
       "3          Notaries            NaN\n",
       "4          Shopping            NaN\n",
       "..              ...            ...\n",
       "770  Gerontologists  Gerontologist\n",
       "771      Otologists      Otologist\n",
       "772        Parklets        Parklet\n",
       "773  Neurotologists  Neurotologist\n",
       "774          Mohels          Mohel\n",
       "\n",
       "[775 rows x 2 columns]"
      ]
     },
     "metadata": {},
     "output_type": "display_data"
    }
   ],
   "source": [
    "exist1 = pd.read_csv('category_exist_in_db_List.csv',header=None)\n",
    "exist2 = pd.read_csv('category_exist_in_db_List_v2.csv', header=None)\n",
    "exist3 = pd.read_csv('category_exist_in_db_List_v3.csv', header=None)\n",
    "\n",
    "frames = [exist1, exist2, exist3]\n",
    "result = pd.concat(frames)\n",
    "result = result.reset_index(drop=True)\n",
    "#exist_v = exist2.add(exist3, fill_value=0)\n",
    "\n",
    "display(result)"
   ]
  },
  {
   "cell_type": "code",
   "execution_count": 5,
   "id": "4b717f53",
   "metadata": {},
   "outputs": [],
   "source": [
    "def string_seperate(string):\n",
    "    n = 0\n",
    "    cate_list = []\n",
    "    a_list = string.split(\", \")\n",
    "    for element in a_list:\n",
    "        cate_list.append(element)\n",
    "    n = n +1\n",
    "    return cate_list\n",
    "\n",
    "def code_to_state(code):\n",
    "    n = 0\n",
    "    for index, row in df.iterrows():\n",
    "        if str(code) == str(df.loc[n,'Code']):\n",
    "            return str(df.loc[n,'State'])\n",
    "        #str(df.loc[n,])\n",
    "        n = n + 1\n",
    "        \n",
    "\n",
    "def change_format_to_db(catagory):\n",
    "    #this function takes a string in catagory from yelp\n",
    "    #and gives the correct format to put in dbpedia\n",
    "    \n",
    "    #Everthing in string to lowercase\n",
    "    newcatagory = catagory.lower()\n",
    "    \n",
    "    #capitalize first letter \n",
    "    newcatagory = catagory.capitalize()\n",
    "    \n",
    "    #replace empty with _\n",
    "    newcatagory = catagory.replace(\" \", \"_\")\n",
    "    \n",
    "    return newcatagory"
   ]
  },
  {
   "cell_type": "code",
   "execution_count": 6,
   "id": "84e11e74",
   "metadata": {},
   "outputs": [],
   "source": [
    "schema = Namespace(\"https://schema.org/\")\n",
    "yelp_business = Namespace(\"https://www.yelp.com/biz/\")\n",
    "db_resource = Namespace(\"http://dbpedia.org/resource/\")\n",
    "g_maps = Namespace(\"http://geonames.org/\")\n",
    "\n",
    "g = Graph()"
   ]
  },
  {
   "cell_type": "code",
   "execution_count": 7,
   "id": "176de914",
   "metadata": {},
   "outputs": [],
   "source": [
    "def triple_maker_name():\n",
    "    #for each name that exist for a business, add a triple to the graph\n",
    "    n = 0\n",
    "    for i in data_business:\n",
    "        if len(data_business[n]['name']) > 0 and data_business[n]['name'] != None:\n",
    "            #append to graph\n",
    "            g.add((URIRef(yelp_business + data_business[n]['business_id']), schema.legalName, Literal(data_business[n]['name'])))\n",
    "        n = n + 1\n",
    "    print('name done')"
   ]
  },
  {
   "cell_type": "code",
   "execution_count": 8,
   "id": "3d4085ca",
   "metadata": {},
   "outputs": [],
   "source": [
    "def triple_maker_address():\n",
    "    #for each address that exist for a business, add a triple to the graph\n",
    "    n = 0\n",
    "    for i in data_business:\n",
    "        #append to graph\n",
    "        if len(data_business[n]['address']) > 0:\n",
    "            g.add((URIRef(yelp_business + data_business[n]['business_id']), schema.streetAddress, Literal(data_business[n]['address'])))\n",
    "        n = n + 1\n",
    "    print('address done')"
   ]
  },
  {
   "cell_type": "code",
   "execution_count": 9,
   "id": "d431abf4",
   "metadata": {},
   "outputs": [],
   "source": [
    "def triple_maker_state():\n",
    "    n = 0\n",
    "    for i in data_business:\n",
    "        #append to graph\n",
    "        if len(data_business[n]['state']) > 0:\n",
    "            g.add((URIRef(yelp_business + data_business[n]['business_id']), schema.addressRegion, URIRef(db_resource + str(code_to_state(data_business[n]['state'])))))\n",
    "        n = n + 1\n",
    "        \n",
    "    print('state done')"
   ]
  },
  {
   "cell_type": "code",
   "execution_count": 10,
   "id": "acff7577",
   "metadata": {},
   "outputs": [],
   "source": [
    "def triple_maker_postal():\n",
    "    n = 0\n",
    "    for i in data_business:\n",
    "        #append to graph\n",
    "        if len(data_business[n]['postal_code']) > 0:\n",
    "            g.add((URIRef(yelp_business + data_business[n]['business_id']), schema.postalCode, Literal(data_business[n]['postal_code'])))\n",
    "        n = n + 1\n",
    "        \n",
    "    print('postal done')"
   ]
  },
  {
   "cell_type": "code",
   "execution_count": 11,
   "id": "31642c5d",
   "metadata": {},
   "outputs": [],
   "source": [
    "def triple_maker_latlong():\n",
    "    n = 0\n",
    "    for i in data_business:\n",
    "        #append to graph\n",
    "        if data_business[n]['latitude'] != None and len(str(data_business[n]['longitude'])) != None :\n",
    "            g.add((URIRef(yelp_business + data_business[n]['business_id']), schema.geo, URIRef(g_maps + str(data_business[n]['latitude']))))\n",
    "            g.add((URIRef(yelp_business + data_business[n]['business_id']), schema.geo, URIRef(g_maps + str(data_business[n]['longitude']))))\n",
    "        n = n + 1\n",
    "    print('lat+long done')"
   ]
  },
  {
   "cell_type": "code",
   "execution_count": 12,
   "id": "a9eef265",
   "metadata": {},
   "outputs": [],
   "source": [
    "def triple_maker_stars():\n",
    "    n = 0\n",
    "    for i in data_business:\n",
    "        #append to graph\n",
    "        if len(str(data_business[n]['stars'])) > 0:\n",
    "            g.add((URIRef(yelp_business + data_business[n]['business_id']), schema.starRating, Literal(data_business[n]['stars'])))\n",
    "        n = n + 1\n",
    "    print('stars done')"
   ]
  },
  {
   "cell_type": "code",
   "execution_count": 13,
   "id": "3289d21f",
   "metadata": {},
   "outputs": [],
   "source": [
    "def triple_maker_cg_cuisine():\n",
    "    n = 0\n",
    "    for i in data_business:\n",
    "        if data_business[n]['categories'] != None:\n",
    "            #split the string in categories to a list, create list as catagory_list\n",
    "            catagory_list = string_seperate(data_business[n]['categories'])\n",
    "                \n",
    "            #for every item in catagory_list, compare it with the cuisineList\n",
    "            for item in range(len(cuisineList)):\n",
    "                for element in range(len(catagory_list)):\n",
    "                    #the item in category exist, add it to the graph\n",
    "                    if catagory_list[element] == cuisineList[item]:\n",
    "                        #cause the cuisines exist as country+_cuisine in dbpedia\n",
    "                        #so every country get added a _cuisine after\n",
    "                        g.add((URIRef(yelp_business + data_business[n]['business_id']), schema.category, URIRef(db_resource + str(cuisineList[element])+ str('_cuisine'))))\n",
    "        n = n + 1\n",
    "    print('category for cuisine done')  "
   ]
  },
  {
   "cell_type": "code",
   "execution_count": 14,
   "id": "a67d9918",
   "metadata": {},
   "outputs": [],
   "source": [
    "def triple_maker_cg_in_db_exist():\n",
    "                  \n",
    "    n = n + 1\n",
    "    for i in data_business:\n",
    "        if data_business[n]['categories'] != None:\n",
    "            #split the string in categories to a list, create list as catagory_list\n",
    "            catagory_list = string_seperate(data_business[n]['categories'])\n",
    "                \n",
    "            #for every item in catagory_list, compare it with a elemenent that exist in dbpedia\n",
    "            item1 = 0\n",
    "            for item in range(len(catagory_list)):\n",
    "                element1 = 0\n",
    "                for element in range(len(existdbList)):\n",
    "                    #the item in category exist, add it to the graph\n",
    "                    if str(catagory_list[item]) == str(existdbList[element]):\n",
    "                        #the format in dbpedia is first letter is upper case\n",
    "                        #and the rest of the letters are lowercase\n",
    "                        #so every string goes through the function change_format_to_db\n",
    "                        #in order to be the correct format\n",
    "                        \n",
    "                        g.add((URIRef(yelp_business + data_business[n]['business_id']), schema.category, URIRef(db_resource + change_format_to_db(existdbList[element]))))\n",
    "    print('category that exist in db done')"
   ]
  },
  {
   "cell_type": "code",
   "execution_count": 15,
   "id": "0252ae37",
   "metadata": {},
   "outputs": [],
   "source": [
    "g2 = Graph()\n",
    "\n",
    "def triple_maker_cg_in_db_exist_2():\n",
    "    category_exist = 0    \n",
    "    category_not_exist = 0  \n",
    "    \n",
    "    for n in range(len(data_business)):\n",
    "        if data_business[n]['categories'] != None:\n",
    "            #split the string in categories to a list, create list as catagory_list\n",
    "            catagory_list = string_seperate(data_business[n]['categories'])\n",
    "            #for every item in catagory_list, compare it with the dbpedia\n",
    "            item1 = 0\n",
    "            for item in range(len(catagory_list)):\n",
    "                element1 = 0\n",
    "                for index, row in df.iterrows():\n",
    "                    #the item in category exist, add it to the graph\n",
    "                    if str(catagory_list[item]) == str(row[0]):\n",
    "                        \n",
    "                        #the format in dbpedia is first letter is upper case\n",
    "                        #and the rest of the letters are lowercase\n",
    "                        #so every string goes through the function change_format_to_db\n",
    "                        #in order to be the correct format\n",
    "                        #g2.add((URIRef(yelp_business + data_business[n]['business_id']), schema.category, URIRef(db_resource + change_format_to_db(existdbList[element]))))\n",
    "                        category_exist = category_exist + 1\n",
    "                    else:\n",
    "                        category_not_exist = category_not_exist + 1\n",
    "    print('category_2 that exist in db done')"
   ]
  },
  {
   "cell_type": "code",
   "execution_count": 16,
   "id": "f193877f",
   "metadata": {},
   "outputs": [],
   "source": [
    "def triple_maker_att_RestaurantsTakeOut():\n",
    "    for n in range(0,10):\n",
    "        if data_business[n]['attributes'] != None:\n",
    "            for element in (data_business[n]['attributes']):\n",
    "                if data_business[n]['attributes'].__contains__('RestaurantsTakeOut'):\n",
    "                    if (data_business[n]['attributes']['RestaurantsTakeOut']) == 'True':\n",
    "                        g.add((URIRef(yelp_business + data_business[n]['business_id']), schema.category, URIRef(db_resource + 'Take-out')))"
   ]
  },
  {
   "cell_type": "code",
   "execution_count": 17,
   "id": "42e5111b",
   "metadata": {},
   "outputs": [],
   "source": [
    "def triple_maker_att_Smoking():\n",
    "    for n in range(0,10):\n",
    "        if data_business[n]['attributes'] != None:\n",
    "            for element in (data_business[n]['attributes']):\n",
    "                if data_business[n]['attributes'].__contains__('Smoking'):\n",
    "                    if (data_business[n]['attributes']['Smoking']) == 'True':\n",
    "                        g.add((URIRef(yelp_business + data_business[n]['business_id']), schema.smokingAllowed, Literal('true')))"
   ]
  },
  {
   "cell_type": "code",
   "execution_count": 18,
   "id": "c5959049",
   "metadata": {},
   "outputs": [],
   "source": [
    "def triple_maker_att_BusinessAcceptsCreditCards():\n",
    "    for n in range(0,10):\n",
    "        if data_business[n]['attributes'] != None:\n",
    "            for element in (data_business[n]['attributes']):\n",
    "                if data_business[n]['attributes'].__contains__('BusinessAcceptsCreditCards'):\n",
    "                    if (data_business[n]['attributes']['BusinessAcceptsCreditCards']) == 'True':\n",
    "                        g.add((URIRef(yelp_business + data_business[n]['business_id']), schema.paymentAccepted, Literal('Credit Card')))"
   ]
  },
  {
   "cell_type": "code",
   "execution_count": 19,
   "id": "fcc129e0",
   "metadata": {},
   "outputs": [],
   "source": [
    "def triple_maker_att_BikeParking():\n",
    "    for n in range(0,10):\n",
    "        if data_business[n]['attributes'] != None:\n",
    "            for element in (data_business[n]['attributes']):\n",
    "                if data_business[n]['attributes'].__contains__('BikeParking'):\n",
    "                    if (data_business[n]['attributes']['BikeParking']) == 'True':\n",
    "                        g.add((URIRef(yelp_business + data_business[n]['business_id']), schema.ParkingFacility, URIRef(db_resource + 'Bicycle')))"
   ]
  },
  {
   "cell_type": "code",
   "execution_count": 20,
   "id": "278b17e6",
   "metadata": {},
   "outputs": [],
   "source": [
    "def triple_maker_att_RestaurantsPriceRange2():\n",
    "    for n in range(0,10):\n",
    "        if data_business[n]['attributes'] != None:\n",
    "            for element in (data_business[n]['attributes']):\n",
    "                if data_business[n]['attributes'].__contains__('RestaurantsPriceRange2'):\n",
    "                    if (data_business[n]['attributes']['RestaurantsPriceRange2']) == '1':\n",
    "                        g.add((URIRef(yelp_business + data_business[n]['business_id']), schema.priceRange, Literal('1')))\n",
    "                    if (data_business[n]['attributes']['RestaurantsPriceRange2']) == '1':\n",
    "                        g.add((URIRef(yelp_business + data_business[n]['business_id']), schema.priceRange, Literal('2')))\n",
    "                    if (data_business[n]['attributes']['RestaurantsPriceRange2']) == '1':\n",
    "                        g.add((URIRef(yelp_business + data_business[n]['business_id']), schema.priceRange, Literal('3')))\n",
    "                    if (data_business[n]['attributes']['RestaurantsPriceRange2']) == '1':\n",
    "                        g.add((URIRef(yelp_business + data_business[n]['business_id']), schema.priceRange, Literal('4')))"
   ]
  },
  {
   "cell_type": "code",
   "execution_count": 21,
   "id": "f03dc698",
   "metadata": {},
   "outputs": [],
   "source": [
    "def triple_maker_att_BikeParking():\n",
    "    for n in range(0,10):\n",
    "        if data_business[n]['attributes'] != None:\n",
    "            for element in (data_business[n]['attributes']):\n",
    "                if data_business[n]['attributes'].__contains__('BikeParking'):\n",
    "                    if (data_business[n]['attributes']['BikeParking']) == 'True':\n",
    "                        g.add((URIRef(yelp_business + data_business[n]['business_id']), schema.ParkingFacility, URIRef(db_resource + 'Bicycle')))"
   ]
  },
  {
   "cell_type": "code",
   "execution_count": 22,
   "id": "ae31dec4",
   "metadata": {},
   "outputs": [],
   "source": [
    "def triple_maker_att_CoatCheck():\n",
    "    for n in range(0,10):\n",
    "        if data_business[n]['attributes'] != None:\n",
    "            for element in (data_business[n]['attributes']):\n",
    "                if data_business[n]['attributes'].__contains__('CoatCheck'):\n",
    "                    if (data_business[n]['attributes']['CoatCheck']) == 'True':\n",
    "                        g.add((URIRef(yelp_business + data_business[n]['business_id']), schema.amenityFeature, URIRef(db_resource + 'Wardrobe')))"
   ]
  },
  {
   "cell_type": "code",
   "execution_count": 23,
   "id": "d7033e76",
   "metadata": {},
   "outputs": [],
   "source": [
    "def triple_maker_att_RestaurantsDelivery():\n",
    "    for n in range(0,10):\n",
    "        if data_business[n]['attributes'] != None:\n",
    "            for element in (data_business[n]['attributes']):\n",
    "                if data_business[n]['attributes'].__contains__('RestaurantsDelivery'):\n",
    "                    if (data_business[n]['attributes']['RestaurantsDelivery']) == 'True':\n",
    "                        g.add((URIRef(yelp_business + data_business[n]['business_id']), schema.DeliveryMethod, URIRef(db_resource + 'Delivery_service')))"
   ]
  },
  {
   "cell_type": "code",
   "execution_count": 24,
   "id": "991e6e6a",
   "metadata": {},
   "outputs": [],
   "source": [
    "def triple_maker_att_Caters():\n",
    "    for n in range(0,10):\n",
    "        if data_business[n]['attributes'] != None:\n",
    "            for element in (data_business[n]['attributes']):\n",
    "                if data_business[n]['attributes'].__contains__('Caters'):\n",
    "                    if (data_business[n]['attributes']['Caters']) == 'True':\n",
    "                        g.add((URIRef(yelp_business + data_business[n]['business_id']), schema.FoodEstablishment, URIRef(db_resource + 'Catering')))"
   ]
  },
  {
   "cell_type": "code",
   "execution_count": 25,
   "id": "ddfb781c",
   "metadata": {},
   "outputs": [],
   "source": [
    "def triple_maker_att_WiFi():\n",
    "    for n in range(0,10):\n",
    "        if data_business[n]['attributes'] != None:\n",
    "            for element in (data_business[n]['attributes']):\n",
    "                if data_business[n]['attributes'].__contains__('WiFi'):\n",
    "                    if (data_business[n]['attributes']['WiFi']) == 'True':\n",
    "                        g.add((URIRef(yelp_business + data_business[n]['business_id']), schema.amenityFeature, URIRef(db_resource + 'Wi-Fi')))"
   ]
  },
  {
   "cell_type": "code",
   "execution_count": 26,
   "id": "1d3b2e52",
   "metadata": {},
   "outputs": [],
   "source": [
    "def triple_maker_att_WheelchairAccessible():\n",
    "    for n in range(0,10):\n",
    "        if data_business[n]['attributes'] != None:\n",
    "            for element in (data_business[n]['attributes']):\n",
    "                if data_business[n]['attributes'].__contains__('WheelchairAccessible'):\n",
    "                    if (data_business[n]['attributes']['WheelchairAccessible']) == 'True':\n",
    "                        g.add((URIRef(yelp_business + data_business[n]['business_id']), schema.accessibilityFeature, URIRef(db_resource + 'Wheelchair')))"
   ]
  },
  {
   "cell_type": "code",
   "execution_count": 27,
   "id": "eb0424b3",
   "metadata": {},
   "outputs": [],
   "source": [
    "def triple_maker_att_HappyHour():\n",
    "    for n in range(0,10):\n",
    "        if data_business[n]['attributes'] != None:\n",
    "            for element in (data_business[n]['attributes']):\n",
    "                if data_business[n]['attributes'].__contains__('HappyHour'):\n",
    "                    if (data_business[n]['attributes']['HappyHour']) == 'True':\n",
    "                        g.add((URIRef(yelp_business + data_business[n]['business_id']), schema.amenityFeature, URIRef(db_resource + 'Happy_Hour')))"
   ]
  },
  {
   "cell_type": "code",
   "execution_count": 28,
   "id": "6f99aa85",
   "metadata": {},
   "outputs": [],
   "source": [
    "def triple_maker_att_OutdoorSeating():\n",
    "    for n in range(0,10):\n",
    "        if data_business[n]['attributes'] != None:\n",
    "            for element in (data_business[n]['attributes']):\n",
    "                if data_business[n]['attributes'].__contains__('OutdoorSeating'):\n",
    "                    if (data_business[n]['attributes']['OutdoorSeating']) == 'True':\n",
    "                        g.add((URIRef(yelp_business + data_business[n]['business_id']), schema.containsPlace, URIRef(db_resource + 'Outdoor_dining')))"
   ]
  },
  {
   "cell_type": "code",
   "execution_count": 29,
   "id": "f0c686bb",
   "metadata": {},
   "outputs": [],
   "source": [
    "def triple_maker_att_HasTV():\n",
    "    for n in range(0,10):\n",
    "        if data_business[n]['attributes'] != None:\n",
    "            for element in (data_business[n]['attributes']):\n",
    "                if data_business[n]['attributes'].__contains__('HasTV'):\n",
    "                    if (data_business[n]['attributes']['HasTV']) == 'True':\n",
    "                        g.add((URIRef(yelp_business + data_business[n]['business_id']), schema.amenityFeature, URIRef(db_resource + 'Television')))"
   ]
  },
  {
   "cell_type": "code",
   "execution_count": 30,
   "id": "b282d522",
   "metadata": {},
   "outputs": [],
   "source": [
    "def triple_maker_att_RestaurantsReservations():\n",
    "    for n in range(0,10):\n",
    "        if data_business[n]['attributes'] != None:\n",
    "            for element in (data_business[n]['attributes']):\n",
    "                if data_business[n]['attributes'].__contains__('RestaurantsReservations'):\n",
    "                    if (data_business[n]['attributes']['RestaurantsReservations']) == 'True':\n",
    "                        g.add((URIRef(yelp_business + data_business[n]['business_id']), schema.acceptsReservations, URIRef(db_resource + 'RestaurantsReservations')))"
   ]
  },
  {
   "cell_type": "code",
   "execution_count": 31,
   "id": "6a76d5f8",
   "metadata": {},
   "outputs": [],
   "source": [
    "def triple_maker_att_DogsAllowed():\n",
    "    for n in range(0,10):\n",
    "        if data_business[n]['attributes'] != None:\n",
    "            for element in (data_business[n]['attributes']):\n",
    "                if data_business[n]['attributes'].__contains__('petsAllowed'):\n",
    "                    if (data_business[n]['attributes']['petsAllowed']) == 'True':\n",
    "                        g.add((URIRef(yelp_business + data_business[n]['business_id']), schema.acceptsReservations, Literal('true')))"
   ]
  },
  {
   "cell_type": "code",
   "execution_count": 32,
   "id": "44d1bd96",
   "metadata": {},
   "outputs": [],
   "source": [
    "def triple_maker_att_Alcohol():\n",
    "    for n in range(0,10):\n",
    "        if data_business[n]['attributes'] != None:\n",
    "            for element in (data_business[n]['attributes']):\n",
    "                if data_business[n]['attributes'].__contains__('Alcohol'):\n",
    "                    if (data_business[n]['attributes']['Alcohol']) == 'True':\n",
    "                        g.add((URIRef(yelp_business + data_business[n]['business_id']), schema.hasMenuItem, URIRef(db_resource + 'Alcoholic_drink')))"
   ]
  },
  {
   "cell_type": "code",
   "execution_count": 33,
   "id": "b8fb44ba",
   "metadata": {},
   "outputs": [],
   "source": [
    "def triple_maker_att_GoodForKids():\n",
    "    for n in range(0,10):\n",
    "        if data_business[n]['attributes'] != None:\n",
    "            for element in (data_business[n]['attributes']):\n",
    "                if data_business[n]['attributes'].__contains__('GoodForKids'):\n",
    "                    if (data_business[n]['attributes']['GoodForKids']) == 'True':\n",
    "                        g.add((URIRef(yelp_business + data_business[n]['business_id']), schema.amenityFeature, URIRef(db_resource + 'Family-friendly')))"
   ]
  },
  {
   "cell_type": "code",
   "execution_count": 34,
   "id": "420b88b3",
   "metadata": {},
   "outputs": [],
   "source": [
    "def triple_maker_att_RestaurantsTableService():\n",
    "    for n in range(0,10):\n",
    "        if data_business[n]['attributes'] != None:\n",
    "            for element in (data_business[n]['attributes']):\n",
    "                if data_business[n]['attributes'].__contains__('RestaurantsTableService'):\n",
    "                    if (data_business[n]['attributes']['RestaurantsTableService']) == 'True':\n",
    "                        g.add((URIRef(yelp_business + data_business[n]['business_id']), schema.amenityFeature, URIRef(db_resource + 'Waiting_staff')))"
   ]
  },
  {
   "cell_type": "code",
   "execution_count": 35,
   "id": "7c9a271d",
   "metadata": {},
   "outputs": [],
   "source": [
    "def triple_maker_att_DriveThru():\n",
    "    for n in range(0,10):\n",
    "        if data_business[n]['attributes'] != None:\n",
    "            for element in (data_business[n]['attributes']):\n",
    "                if data_business[n]['attributes'].__contains__('DriveThru'):\n",
    "                    if (data_business[n]['attributes']['DriveThru']) == 'True':\n",
    "                        g.add((URIRef(yelp_business + data_business[n]['business_id']), schema.amenityFeature, URIRef(db_resource + 'Drive-through')))"
   ]
  },
  {
   "cell_type": "code",
   "execution_count": 36,
   "id": "45c973fc",
   "metadata": {},
   "outputs": [],
   "source": [
    "def triple_maker_att_NoiseLevel():\n",
    "    for n in range(0,10):\n",
    "        if data_business[n]['attributes'] != None:\n",
    "            for element in (data_business[n]['attributes']):\n",
    "                if data_business[n]['attributes'].__contains__('NoiseLevel'):\n",
    "                    if (data_business[n]['attributes']['NoiseLevel']) == \"u'average'\":\n",
    "                        g.add((URIRef(yelp_business + data_business[n]['business_id']), schema.Level, Literal('under average')))\n",
    "                    if (data_business[n]['attributes']['NoiseLevel']) == \"u'quiet'\":\n",
    "                        g.add((URIRef(yelp_business + data_business[n]['business_id']), schema.Level, Literal('under quiet')))\n",
    "                    if (data_business[n]['attributes']['NoiseLevel']) == \"'average'\":\n",
    "                        g.add((URIRef(yelp_business + data_business[n]['business_id']), schema.Level, Literal('average')))"
   ]
  },
  {
   "cell_type": "code",
   "execution_count": 37,
   "id": "1e308167",
   "metadata": {},
   "outputs": [],
   "source": [
    "def triple_maker_att_BusinessAcceptsBitcoin():\n",
    "    for n in range(0,10):\n",
    "        if data_business[n]['attributes'] != None:\n",
    "            for element in (data_business[n]['attributes']):\n",
    "                if data_business[n]['attributes'].__contains__('BusinessAcceptsBitcoin'):\n",
    "                    if (data_business[n]['attributes']['BusinessAcceptsBitcoin']) == 'True':\n",
    "                        g.add((URIRef(yelp_business + data_business[n]['business_id']), schema.paymentAccepted, Literal('Cryptocurrency')))"
   ]
  },
  {
   "cell_type": "code",
   "execution_count": 38,
   "id": "568ebefa",
   "metadata": {},
   "outputs": [],
   "source": [
    "def triple_maker_att_Music():\n",
    "    for n in range(0,10):\n",
    "        if data_business[n]['attributes'] != None:\n",
    "            for element in (data_business[n]['attributes']):\n",
    "                if data_business[n]['attributes'].__contains__('Music'):\n",
    "                    if (data_business[n]['attributes']['Music']) == 'True':\n",
    "                        g.add((URIRef(yelp_business + data_business[n]['business_id']), schema.amenityFeature, URIRef(db_resource + 'Music')))"
   ]
  },
  {
   "cell_type": "code",
   "execution_count": 39,
   "id": "600e99d9",
   "metadata": {},
   "outputs": [],
   "source": [
    "def triple_maker_att_GoodForDancing():\n",
    "    for n in range(0,10):\n",
    "        if data_business[n]['attributes'] != None:\n",
    "            for element in (data_business[n]['attributes']):\n",
    "                if data_business[n]['attributes'].__contains__('GoodForDancing'):\n",
    "                    if (data_business[n]['attributes']['GoodForDancing']) == 'True':\n",
    "                        g.add((URIRef(yelp_business + data_business[n]['business_id']), schema.amenityFeature, URIRef(db_resource + 'Dance')))"
   ]
  },
  {
   "cell_type": "code",
   "execution_count": 40,
   "id": "f82c81d1",
   "metadata": {},
   "outputs": [],
   "source": [
    "def triple_maker_att_AcceptsInsurance():\n",
    "    for n in range(0,10):\n",
    "        if data_business[n]['attributes'] != None:\n",
    "            for element in (data_business[n]['attributes']):\n",
    "                if data_business[n]['attributes'].__contains__('AcceptsInsurance'):\n",
    "                    if (data_business[n]['attributes']['AcceptsInsurance']) == 'True':\n",
    "                        g.add((URIRef(yelp_business + data_business[n]['business_id']), schema.paymentAccepted, Literal('Insurance')))"
   ]
  },
  {
   "cell_type": "code",
   "execution_count": 41,
   "id": "d9aa5b47",
   "metadata": {},
   "outputs": [],
   "source": [
    "def triple_maker_att_BYOB():\n",
    "    for n in range(0,10):\n",
    "        if data_business[n]['attributes'] != None:\n",
    "            for element in (data_business[n]['attributes']):\n",
    "                if data_business[n]['attributes'].__contains__('BYOB'):\n",
    "                    if (data_business[n]['attributes']['BYOB']) == 'True':\n",
    "                        g.add((URIRef(yelp_business + data_business[n]['business_id']), schema.amenityFeature, URIRef(db_resource + 'BYOB')))"
   ]
  },
  {
   "cell_type": "code",
   "execution_count": 42,
   "id": "ee6506c2",
   "metadata": {},
   "outputs": [],
   "source": [
    "def triple_maker_att_corkage():\n",
    "    for n in range(0,10):\n",
    "        if data_business[n]['attributes'] != None:\n",
    "            for element in (data_business[n]['attributes']):\n",
    "                if data_business[n]['attributes'].__contains__('corkage'):\n",
    "                    if (data_business[n]['attributes']['corkage']) == 'True':\n",
    "                        g.add((URIRef(yelp_business + data_business[n]['business_id']), schema.amenityFeature, URIRef(db_resource + 'BYOB')))"
   ]
  },
  {
   "cell_type": "code",
   "execution_count": 43,
   "id": "5ee1893d",
   "metadata": {},
   "outputs": [],
   "source": [
    "def triple_maker_att_BYOBCorkage():\n",
    "    for n in range(0,10):\n",
    "        if data_business[n]['attributes'] != None:\n",
    "            for element in (data_business[n]['attributes']):\n",
    "                if data_business[n]['attributes'].__contains__('BYOBCorkage'):\n",
    "                    if (data_business[n]['attributes']['BYOBCorkage']) == 'yes_free':\n",
    "                        g.add((URIRef(yelp_business + data_business[n]['business_id']), schema.amenityFeature, URIRef(db_resource + 'BYOB')))\n",
    "                    if (data_business[n]['attributes']['BYOBCorkage']) == 'yes_free':\n",
    "                        g.add((URIRef(yelp_business + data_business[n]['business_id']), schema.amenityFeature, URIRef(db_resource + 'BYOB')))"
   ]
  },
  {
   "cell_type": "code",
   "execution_count": 44,
   "id": "74690d7e",
   "metadata": {},
   "outputs": [],
   "source": [
    "byob_list =[]\n",
    "for n in range(0,10):\n",
    "        if data_business[n]['attributes'] != None:\n",
    "            for element in (data_business[n]['attributes']):\n",
    "                if data_business[n]['attributes'].__contains__('BYOBCorkage'):\n",
    "                    if (data_business[n]['attributes']['BYOBCorkage']) not in byob_list:\n",
    "                        byob_list.append(data_business[n]['attributes']['BYOBCorkage'])"
   ]
  },
  {
   "cell_type": "code",
   "execution_count": 45,
   "id": "5688ba8c",
   "metadata": {},
   "outputs": [
    {
     "name": "stdout",
     "output_type": "stream",
     "text": [
      "<class 'dict'>\n",
      "{'RestaurantsPriceRange2': '2', 'BikeParking': 'True', 'BusinessAcceptsCreditCards': 'True', 'BusinessParking': \"{'garage': False, 'street': False, 'validated': False, 'lot': False, 'valet': False}\"}\n",
      "<class 'list'>\n",
      "[\"{'garage': False\", \"'street': False\", \"'validated': False\", \"'lot': False\", \"'valet': False}\"]\n"
     ]
    }
   ],
   "source": [
    "lol = 10\n",
    "\n",
    "print(type(data_business[lol]['attributes']))\n",
    "print(data_business[lol]['attributes'])\n",
    "print(type(string_seperate(data_business[lol]['attributes']['BusinessParking'])))\n",
    "print(string_seperate(data_business[lol]['attributes']['BusinessParking']))"
   ]
  },
  {
   "cell_type": "code",
   "execution_count": 46,
   "id": "d63e84ec",
   "metadata": {},
   "outputs": [
    {
     "data": {
      "text/plain": [
       "'\\ntriple_maker_name()\\ntriple_maker_address()\\ntriple_maker_state()\\ntriple_maker_postal()\\ntriple_maker_latlong()\\ntriple_maker_stars()\\ntriple_maker_cg_cuisine()\\ntriple_maker_cg_in_db_exist()\\n'"
      ]
     },
     "execution_count": 46,
     "metadata": {},
     "output_type": "execute_result"
    }
   ],
   "source": [
    "'''\n",
    "triple_maker_name()\n",
    "triple_maker_address()\n",
    "triple_maker_state()\n",
    "triple_maker_postal()\n",
    "triple_maker_latlong()\n",
    "triple_maker_stars()\n",
    "triple_maker_cg_cuisine()\n",
    "triple_maker_cg_in_db_exist()\n",
    "'''"
   ]
  },
  {
   "cell_type": "code",
   "execution_count": 47,
   "id": "1f0310d5",
   "metadata": {},
   "outputs": [],
   "source": [
    "#g.serialize(destination=\"Business_v2.ttl\")"
   ]
  },
  {
   "cell_type": "code",
   "execution_count": 48,
   "id": "2bd079b5",
   "metadata": {},
   "outputs": [],
   "source": [
    "#triple_maker_cg_in_db_exist_2()\n",
    "\n",
    "#print(category_exist)\n",
    "#print(category_not_exist)"
   ]
  },
  {
   "cell_type": "code",
   "execution_count": null,
   "id": "f48bc3bf",
   "metadata": {},
   "outputs": [],
   "source": []
  }
 ],
 "metadata": {
  "kernelspec": {
   "display_name": "Python 3 (ipykernel)",
   "language": "python",
   "name": "python3"
  },
  "language_info": {
   "codemirror_mode": {
    "name": "ipython",
    "version": 3
   },
   "file_extension": ".py",
   "mimetype": "text/x-python",
   "name": "python",
   "nbconvert_exporter": "python",
   "pygments_lexer": "ipython3",
   "version": "3.8.3"
  }
 },
 "nbformat": 4,
 "nbformat_minor": 5
}
