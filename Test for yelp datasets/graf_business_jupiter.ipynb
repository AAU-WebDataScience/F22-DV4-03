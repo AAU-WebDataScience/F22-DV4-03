{
 "cells": [
  {
   "cell_type": "code",
   "execution_count": 1,
   "id": "2ce1864f-2bdc-4d14-aa0e-1640a239943e",
   "metadata": {},
   "outputs": [],
   "source": [
    "import json\n",
    "import csv \n",
    "import pandas as pd\n",
    "\n",
    "from rdflib import Graph, Namespace, URIRef, BNode, Literal\n",
    "from rdflib.namespace import RDF, FOAF, XSD"
   ]
  },
  {
   "cell_type": "code",
   "execution_count": 2,
   "id": "c8322425-35d7-459a-8dec-2e94fc790fe6",
   "metadata": {},
   "outputs": [],
   "source": [
    "data_business = []\n",
    "csvfile = []\n",
    "cuisineList = []\n",
    "existdbList = []\n",
    "specialList = []"
   ]
  },
  {
   "cell_type": "code",
   "execution_count": 3,
   "id": "78ce98c5-7b25-4735-82ea-5076de786841",
   "metadata": {},
   "outputs": [],
   "source": [
    "with open('yelp_academic_dataset_business.json', encoding=\"utf8\") as f:\n",
    "    for line in f:\n",
    "        data_business.append(json.loads(line))\n",
    "df = pd.read_csv('csvData.csv')\n",
    "\n",
    "with open('country_cusine_filtered_list.csv', newline='') as inputfile:\n",
    "    for row in csv.reader(inputfile):\n",
    "        cuisineList.append(row[0])\n",
    "        \n",
    "with open('category_exist_in_db_List.csv', newline='') as inputfile:\n",
    "    for row in csv.reader(inputfile):\n",
    "        existdbList.append(row[0])\n",
    "        \n",
    "with open('distinct_with_specialchar.csv', newline='') as inputfile:\n",
    "    for row in csv.reader(inputfile):\n",
    "        specialList.append(row[0])"
   ]
  },
  {
   "cell_type": "code",
   "execution_count": 4,
   "id": "25ceb80a-35ac-488e-9b65-0e10a1ce874e",
   "metadata": {},
   "outputs": [
    {
     "data": {
      "text/html": [
       "<div>\n",
       "<style scoped>\n",
       "    .dataframe tbody tr th:only-of-type {\n",
       "        vertical-align: middle;\n",
       "    }\n",
       "\n",
       "    .dataframe tbody tr th {\n",
       "        vertical-align: top;\n",
       "    }\n",
       "\n",
       "    .dataframe thead th {\n",
       "        text-align: right;\n",
       "    }\n",
       "</style>\n",
       "<table border=\"1\" class=\"dataframe\">\n",
       "  <thead>\n",
       "    <tr style=\"text-align: right;\">\n",
       "      <th></th>\n",
       "      <th>0</th>\n",
       "      <th>1</th>\n",
       "    </tr>\n",
       "  </thead>\n",
       "  <tbody>\n",
       "    <tr>\n",
       "      <th>0</th>\n",
       "      <td>Doctors</td>\n",
       "      <td>NaN</td>\n",
       "    </tr>\n",
       "    <tr>\n",
       "      <th>1</th>\n",
       "      <td>Acupuncture</td>\n",
       "      <td>NaN</td>\n",
       "    </tr>\n",
       "    <tr>\n",
       "      <th>2</th>\n",
       "      <td>Nutritionists</td>\n",
       "      <td>NaN</td>\n",
       "    </tr>\n",
       "    <tr>\n",
       "      <th>3</th>\n",
       "      <td>Notaries</td>\n",
       "      <td>NaN</td>\n",
       "    </tr>\n",
       "    <tr>\n",
       "      <th>4</th>\n",
       "      <td>Shopping</td>\n",
       "      <td>NaN</td>\n",
       "    </tr>\n",
       "    <tr>\n",
       "      <th>...</th>\n",
       "      <td>...</td>\n",
       "      <td>...</td>\n",
       "    </tr>\n",
       "    <tr>\n",
       "      <th>770</th>\n",
       "      <td>Gerontologists</td>\n",
       "      <td>Gerontologist</td>\n",
       "    </tr>\n",
       "    <tr>\n",
       "      <th>771</th>\n",
       "      <td>Otologists</td>\n",
       "      <td>Otologist</td>\n",
       "    </tr>\n",
       "    <tr>\n",
       "      <th>772</th>\n",
       "      <td>Parklets</td>\n",
       "      <td>Parklet</td>\n",
       "    </tr>\n",
       "    <tr>\n",
       "      <th>773</th>\n",
       "      <td>Neurotologists</td>\n",
       "      <td>Neurotologist</td>\n",
       "    </tr>\n",
       "    <tr>\n",
       "      <th>774</th>\n",
       "      <td>Mohels</td>\n",
       "      <td>Mohel</td>\n",
       "    </tr>\n",
       "  </tbody>\n",
       "</table>\n",
       "<p>775 rows × 2 columns</p>\n",
       "</div>"
      ],
      "text/plain": [
       "                  0              1\n",
       "0           Doctors            NaN\n",
       "1       Acupuncture            NaN\n",
       "2     Nutritionists            NaN\n",
       "3          Notaries            NaN\n",
       "4          Shopping            NaN\n",
       "..              ...            ...\n",
       "770  Gerontologists  Gerontologist\n",
       "771      Otologists      Otologist\n",
       "772        Parklets        Parklet\n",
       "773  Neurotologists  Neurotologist\n",
       "774          Mohels          Mohel\n",
       "\n",
       "[775 rows x 2 columns]"
      ]
     },
     "metadata": {},
     "output_type": "display_data"
    }
   ],
   "source": [
    "exist1 = pd.read_csv('category_exist_in_db_List.csv',header=None)\n",
    "exist2 = pd.read_csv('category_exist_in_db_List_v2.csv', header=None)\n",
    "exist3 = pd.read_csv('category_exist_in_db_List_v3.csv', header=None)\n",
    "\n",
    "frames = [exist1, exist2, exist3]\n",
    "result = pd.concat(frames)\n",
    "result = result.reset_index(drop=True)\n",
    "#exist_v = exist2.add(exist3, fill_value=0)\n",
    "\n",
    "display(result)"
   ]
  },
  {
   "cell_type": "code",
   "execution_count": 5,
   "id": "e1c0cdaa-85df-428b-b060-94a6934664a3",
   "metadata": {},
   "outputs": [],
   "source": [
    "def string_seperate(string):\n",
    "    n = 0\n",
    "    cate_list = []\n",
    "    a_list = string.split(\", \")\n",
    "    for element in a_list:\n",
    "        cate_list.append(element)\n",
    "    n = n +1\n",
    "    return cate_list\n",
    "\n",
    "def code_to_state(code):\n",
    "    n = 0\n",
    "    for index, row in df.iterrows():\n",
    "        if str(code) == str(df.loc[n,'Code']):\n",
    "            return str(df.loc[n,'State'])\n",
    "        #str(df.loc[n,])\n",
    "        n = n + 1\n",
    "        \n",
    "\n",
    "def change_format_to_db(catagory):\n",
    "    #this function takes a string in catagory from yelp\n",
    "    #and gives the correct format to put in dbpedia\n",
    "    \n",
    "    #Everthing in string to lowercase\n",
    "    newcatagory = catagory.lower()\n",
    "    \n",
    "    #capitalize first letter \n",
    "    newcatagory = catagory.capitalize()\n",
    "    \n",
    "    #replace empty with _\n",
    "    newcatagory = catagory.replace(\" \", \"_\")\n",
    "    \n",
    "    return newcatagory"
   ]
  },
  {
   "cell_type": "code",
   "execution_count": 6,
   "id": "66960fe5-0e96-4eb0-92e5-6ce7c361245f",
   "metadata": {},
   "outputs": [],
   "source": [
    "schema = Namespace(\"https://schema.org/\")\n",
    "yelp_business = Namespace(\"https://www.yelp.com/biz/\")\n",
    "db_state = Namespace(\"http://dbpedia.org/resource/\")\n",
    "g_maps = Namespace(\"\")\n",
    "\n",
    "g = Graph()"
   ]
  },
  {
   "cell_type": "code",
   "execution_count": 7,
   "id": "83c312e9-70d6-46d1-b6e5-1f01d23dd89a",
   "metadata": {},
   "outputs": [],
   "source": [
    "def triple_maker_name():\n",
    "    #for each name that exist for a business, add a triple to the graph\n",
    "    n = 0\n",
    "    for i in data_business:\n",
    "        if len(data_business[n]['name']) > 0 and data_business[n]['name'] != None:\n",
    "            #append to graph\n",
    "            g.add((URIRef(yelp_business + data_business[n]['business_id']), schema.legalName, Literal(data_business[n]['name'])))\n",
    "        n = n + 1\n",
    "    print('name done')"
   ]
  },
  {
   "cell_type": "code",
   "execution_count": 8,
   "id": "6767fb95-c0e5-4b2b-a8fc-72939916210b",
   "metadata": {},
   "outputs": [],
   "source": [
    "def triple_maker_address():\n",
    "    #for each address that exist for a business, add a triple to the graph\n",
    "    n = 0\n",
    "    for i in data_business:\n",
    "        #append to graph\n",
    "        if len(data_business[n]['address']) > 0:\n",
    "            g.add((URIRef(yelp_business + data_business[n]['business_id']), schema.streetAddress, Literal(data_business[n]['address'])))\n",
    "        n = n + 1\n",
    "    print('address done')"
   ]
  },
  {
   "cell_type": "code",
   "execution_count": 9,
   "id": "52e0c844-1c9b-4704-af74-96cd9b0c85fe",
   "metadata": {},
   "outputs": [],
   "source": [
    "def triple_maker_state():\n",
    "    n = 0\n",
    "    for i in data_business:\n",
    "        #append to graph\n",
    "        if len(data_business[n]['state']) > 0:\n",
    "            g.add((URIRef(yelp_business + data_business[n]['business_id']), schema.addressRegion, URIRef(db_state + str(code_to_state(data_business[n]['state'])))))\n",
    "        n = n + 1\n",
    "        \n",
    "    print('state done')"
   ]
  },
  {
   "cell_type": "code",
   "execution_count": 10,
   "id": "46c84e38-9e8d-4768-93c5-5b0ebac99ca5",
   "metadata": {},
   "outputs": [],
   "source": [
    "def triple_maker_postal():\n",
    "    n = 0\n",
    "    for i in data_business:\n",
    "        #append to graph\n",
    "        if len(data_business[n]['postal_code']) > 0:\n",
    "            g.add((URIRef(yelp_business + data_business[n]['business_id']), schema.postalCode, Literal(data_business[n]['postal_code'])))\n",
    "        n = n + 1\n",
    "        \n",
    "    print('postal done')"
   ]
  },
  {
   "cell_type": "code",
   "execution_count": 11,
   "id": "fc36e079-8f61-44f7-8ac4-2a07fadb2834",
   "metadata": {},
   "outputs": [],
   "source": [
    "def triple_maker_latlong():\n",
    "    n = 0\n",
    "    for i in data_business:\n",
    "        #append to graph\n",
    "        if data_business[n]['latitude'] != None and len(str(data_business[n]['longitude'])) != None :\n",
    "            g.add((URIRef(yelp_business + data_business[n]['business_id']), schema.geo, URIRef(g_maps + str(data_business[n]['latitude']))))\n",
    "            g.add((URIRef(yelp_business + data_business[n]['business_id']), schema.geo, URIRef(g_maps + str(data_business[n]['longitude']))))\n",
    "        n = n + 1\n",
    "    print('lat+long done')"
   ]
  },
  {
   "cell_type": "code",
   "execution_count": 12,
   "id": "10f633f5-7947-4c9d-898f-a9a9329cbe22",
   "metadata": {},
   "outputs": [],
   "source": [
    "def triple_maker_stars():\n",
    "    n = 0\n",
    "    for i in data_business:\n",
    "        #append to graph\n",
    "        if len(str(data_business[n]['stars'])) > 0:\n",
    "            g.add((URIRef(yelp_business + data_business[n]['business_id']), schema.starRating, Literal(data_business[n]['stars'])))\n",
    "        n = n + 1\n",
    "    print('stars done')"
   ]
  },
  {
   "cell_type": "code",
   "execution_count": 13,
   "id": "9983eeed-7cdf-421a-8f49-2050361bbb78",
   "metadata": {},
   "outputs": [],
   "source": [
    "def triple_maker_cg_cuisine():\n",
    "    n = 0\n",
    "    for i in data_business:\n",
    "        if data_business[n]['categories'] != None:\n",
    "            #split the string in categories to a list, create list as catagory_list\n",
    "            catagory_list = string_seperate(data_business[n]['categories'])\n",
    "                \n",
    "            #for every item in catagory_list, compare it with the cuisineList\n",
    "            for item in range(len(cuisineList)):\n",
    "                for element in range(len(catagory_list)):\n",
    "                    #the item in category exist, add it to the graph\n",
    "                    if catagory_list[element] == cuisineList[item]:\n",
    "                        #cause the cuisines exist as country+_cuisine in dbpedia\n",
    "                        #so every country get added a _cuisine after\n",
    "                        g.add((URIRef(yelp_business + data_business[n]['business_id']), schema.category, URIRef(db_state + str(cuisineList[element])+ str('_cuisine'))))\n",
    "        n = n + 1\n",
    "    print('category for cuisine done')  "
   ]
  },
  {
   "cell_type": "code",
   "execution_count": 14,
   "id": "2acbf79f-4513-4ae6-9312-61ea73db4cb3",
   "metadata": {},
   "outputs": [],
   "source": [
    "def triple_maker_cg_in_db_exist():\n",
    "                  \n",
    "    n = n + 1\n",
    "    for i in data_business:\n",
    "        if data_business[n]['categories'] != None:\n",
    "            #split the string in categories to a list, create list as catagory_list\n",
    "            catagory_list = string_seperate(data_business[n]['categories'])\n",
    "                \n",
    "            #for every item in catagory_list, compare it with a elemenent that exist in dbpedia\n",
    "            item1 = 0\n",
    "            for item in range(len(catagory_list)):\n",
    "                element1 = 0\n",
    "                for element in range(len(existdbList)):\n",
    "                    #the item in category exist, add it to the graph\n",
    "                    if str(catagory_list[item]) == str(existdbList[element]):\n",
    "                        #the format in dbpedia is first letter is upper case\n",
    "                        #and the rest of the letters are lowercase\n",
    "                        #so every string goes through the function change_format_to_db\n",
    "                        #in order to be the correct format\n",
    "                        \n",
    "                        g.add((URIRef(yelp_business + data_business[n]['business_id']), schema.category, URIRef(db_state + change_format_to_db(existdbList[element]))))\n",
    "    print('category that exist in db done')"
   ]
  },
  {
   "cell_type": "code",
   "execution_count": 15,
   "id": "f8470459-5401-414c-bc26-a337cc7bbdcb",
   "metadata": {},
   "outputs": [],
   "source": [
    "g2 = Graph()\n",
    "\n",
    "def triple_maker_cg_in_db_exist_2():\n",
    "    category_exist = 0    \n",
    "    category_not_exist = 0  \n",
    "    \n",
    "    for n in range(len(data_business)):\n",
    "        if data_business[n]['categories'] != None:\n",
    "            #split the string in categories to a list, create list as catagory_list\n",
    "            catagory_list = string_seperate(data_business[n]['categories'])\n",
    "            #for every item in catagory_list, compare it with the dbpedia\n",
    "            item1 = 0\n",
    "            for item in range(len(catagory_list)):\n",
    "                element1 = 0\n",
    "                for index, row in df.iterrows():\n",
    "                    #the item in category exist, add it to the graph\n",
    "                    if str(catagory_list[item]) == str(row[0]):\n",
    "                        \n",
    "                        #the format in dbpedia is first letter is upper case\n",
    "                        #and the rest of the letters are lowercase\n",
    "                        #so every string goes through the function change_format_to_db\n",
    "                        #in order to be the correct format\n",
    "                        #g2.add((URIRef(yelp_business + data_business[n]['business_id']), schema.category, URIRef(db_state + change_format_to_db(existdbList[element]))))\n",
    "                        category_exist = category_exist + 1\n",
    "                    else:\n",
    "                        category_not_exist = category_not_exist + 1\n",
    "    print('category_2 that exist in db done')"
   ]
  },
  {
   "cell_type": "code",
   "execution_count": 26,
   "id": "f9eaaa28-eaee-4f27-9d00-795ed66e1df8",
   "metadata": {},
   "outputs": [],
   "source": [
    "def triple_maker_att_RestaurantsTakeOut():\n",
    "    for n in range(0,10):\n",
    "        if data_business[n]['attributes'] != None:\n",
    "            print(data_business[n]['attributes'])\n",
    "        \n",
    "            if data_business[n]['attributes'].__contains__('RestaurantsTakeOut'):\n",
    "                print(data_business[n]['attributes']['RestaurantsTakeOut'])\n",
    "            else:\n",
    "                print(\"Key does not exist\")\n",
    "        n = n +1"
   ]
  },
  {
   "cell_type": "code",
   "execution_count": 27,
   "id": "f0cf0642-7105-4579-a0db-c9ba072a2bea",
   "metadata": {},
   "outputs": [
    {
     "name": "stdout",
     "output_type": "stream",
     "text": [
      "{'ByAppointmentOnly': 'True'}\n",
      "Key does not exist\n",
      "{'BusinessAcceptsCreditCards': 'True'}\n",
      "Key does not exist\n",
      "{'BikeParking': 'True', 'BusinessAcceptsCreditCards': 'True', 'RestaurantsPriceRange2': '2', 'CoatCheck': 'False', 'RestaurantsTakeOut': 'False', 'RestaurantsDelivery': 'False', 'Caters': 'False', 'WiFi': \"u'no'\", 'BusinessParking': \"{'garage': False, 'street': False, 'validated': False, 'lot': True, 'valet': False}\", 'WheelchairAccessible': 'True', 'HappyHour': 'False', 'OutdoorSeating': 'False', 'HasTV': 'False', 'RestaurantsReservations': 'False', 'DogsAllowed': 'False', 'ByAppointmentOnly': 'False'}\n",
      "False\n",
      "{'RestaurantsDelivery': 'False', 'OutdoorSeating': 'False', 'BusinessAcceptsCreditCards': 'False', 'BusinessParking': \"{'garage': False, 'street': True, 'validated': False, 'lot': False, 'valet': False}\", 'BikeParking': 'True', 'RestaurantsPriceRange2': '1', 'RestaurantsTakeOut': 'True', 'ByAppointmentOnly': 'False', 'WiFi': \"u'free'\", 'Alcohol': \"u'none'\", 'Caters': 'True'}\n",
      "True\n",
      "{'BusinessAcceptsCreditCards': 'True', 'WheelchairAccessible': 'True', 'RestaurantsTakeOut': 'True', 'BusinessParking': \"{'garage': None, 'street': None, 'validated': None, 'lot': True, 'valet': False}\", 'BikeParking': 'True', 'GoodForKids': 'True', 'Caters': 'False'}\n",
      "True\n",
      "{'BusinessParking': 'None', 'BusinessAcceptsCreditCards': 'True', 'RestaurantsAttire': \"u'casual'\", 'OutdoorSeating': 'True', 'RestaurantsReservations': 'False', 'Caters': 'False', 'RestaurantsTakeOut': 'True', 'Alcohol': \"u'none'\", 'Ambience': 'None', 'GoodForKids': 'True', 'RestaurantsPriceRange2': '1', 'ByAppointmentOnly': 'False', 'CoatCheck': 'False', 'DogsAllowed': 'False', 'RestaurantsTableService': 'False', 'RestaurantsGoodForGroups': 'True', 'RestaurantsDelivery': 'True', 'WiFi': \"u'no'\", 'WheelchairAccessible': 'True', 'HasTV': 'True', 'HappyHour': 'False', 'DriveThru': 'True', 'BikeParking': 'False'}\n",
      "True\n",
      "{'BusinessAcceptsCreditCards': 'True', 'RestaurantsPriceRange2': '2', 'BikeParking': 'True', 'BusinessParking': \"{'garage': False, 'street': False, 'validated': False, 'lot': True, 'valet': False}\"}\n",
      "Key does not exist\n",
      "{'Caters': 'True', 'Alcohol': \"u'full_bar'\", 'RestaurantsAttire': \"u'casual'\", 'RestaurantsDelivery': 'False', 'RestaurantsTakeOut': 'True', 'HasTV': 'True', 'NoiseLevel': \"u'average'\", 'BusinessAcceptsCreditCards': 'True', 'OutdoorSeating': 'True', 'BusinessParking': \"{'garage': False, 'street': False, 'validated': False, 'lot': True, 'valet': False}\", 'Ambience': \"{'romantic': False, 'intimate': False, 'touristy': False, 'hipster': False, 'divey': False, 'classy': False, 'trendy': False, 'upscale': False, 'casual': False}\", 'RestaurantsPriceRange2': '1', 'GoodForKids': 'True', 'WiFi': \"u'free'\", 'RestaurantsReservations': 'False', 'RestaurantsGoodForGroups': 'True'}\n",
      "True\n",
      "{'RestaurantsAttire': \"'casual'\", 'RestaurantsGoodForGroups': 'False', 'BusinessAcceptsCreditCards': 'True', 'OutdoorSeating': 'True', 'GoodForKids': 'True', 'Alcohol': \"u'none'\", 'BusinessParking': \"{'garage': False, 'street': False, 'validated': False, 'lot': False, 'valet': False}\", 'DogsAllowed': 'False', 'RestaurantsTableService': 'False', 'ByAppointmentOnly': 'False', 'WiFi': \"u'no'\", 'RestaurantsPriceRange2': '1', 'RestaurantsReservations': 'False', 'HasTV': 'True', 'RestaurantsDelivery': 'True', 'CoatCheck': 'False', 'Caters': 'False', 'RestaurantsTakeOut': 'True', 'DriveThru': 'True', 'HappyHour': 'False', 'WheelchairAccessible': 'True'}\n",
      "True\n"
     ]
    }
   ],
   "source": [
    "triple_maker_att_RestaurantsTakeOut()"
   ]
  },
  {
   "cell_type": "code",
   "execution_count": 17,
   "id": "6ede6c17-f4ac-43b8-ad4a-79fd2886e1e2",
   "metadata": {},
   "outputs": [
    {
     "name": "stdout",
     "output_type": "stream",
     "text": [
      "<class 'dict'>\n",
      "{'RestaurantsPriceRange2': '2', 'BikeParking': 'True', 'BusinessAcceptsCreditCards': 'True', 'BusinessParking': \"{'garage': False, 'street': False, 'validated': False, 'lot': False, 'valet': False}\"}\n",
      "<class 'list'>\n",
      "[\"{'garage': False\", \"'street': False\", \"'validated': False\", \"'lot': False\", \"'valet': False}\"]\n"
     ]
    }
   ],
   "source": [
    "lol = 10\n",
    "\n",
    "print(type(data_business[lol]['attributes']))\n",
    "print(data_business[lol]['attributes'])\n",
    "print(type(string_seperate(data_business[lol]['attributes']['BusinessParking'])))\n",
    "print(string_seperate(data_business[lol]['attributes']['BusinessParking']))"
   ]
  },
  {
   "cell_type": "code",
   "execution_count": 18,
   "id": "3cd1188e-bb74-4572-ad29-435ed47f07cd",
   "metadata": {},
   "outputs": [
    {
     "data": {
      "text/plain": [
       "'\\ntriple_maker_name()\\ntriple_maker_address()\\ntriple_maker_state()\\ntriple_maker_postal()\\ntriple_maker_latlong()\\ntriple_maker_stars()\\ntriple_maker_cg_cuisine()\\ntriple_maker_cg_in_db_exist()\\n'"
      ]
     },
     "execution_count": 18,
     "metadata": {},
     "output_type": "execute_result"
    }
   ],
   "source": [
    "'''\n",
    "triple_maker_name()\n",
    "triple_maker_address()\n",
    "triple_maker_state()\n",
    "triple_maker_postal()\n",
    "triple_maker_latlong()\n",
    "triple_maker_stars()\n",
    "triple_maker_cg_cuisine()\n",
    "triple_maker_cg_in_db_exist()\n",
    "'''"
   ]
  },
  {
   "cell_type": "code",
   "execution_count": 19,
   "id": "da9f211b-d41f-49b8-b4c6-bd31ae46ad03",
   "metadata": {},
   "outputs": [],
   "source": [
    "#g.serialize(destination=\"Business_v2.ttl\")"
   ]
  },
  {
   "cell_type": "code",
   "execution_count": 20,
   "id": "99e4b2fa-1bd1-4173-96aa-d6ce1e8a862c",
   "metadata": {},
   "outputs": [],
   "source": [
    "#triple_maker_cg_in_db_exist_2()\n",
    "\n",
    "#print(category_exist)\n",
    "#print(category_not_exist)"
   ]
  },
  {
   "cell_type": "code",
   "execution_count": null,
   "id": "f86b6b1a-e1bd-4ebf-a020-860242ae9804",
   "metadata": {},
   "outputs": [],
   "source": []
  }
 ],
 "metadata": {
  "kernelspec": {
   "display_name": "Python 3 (ipykernel)",
   "language": "python",
   "name": "python3"
  },
  "language_info": {
   "codemirror_mode": {
    "name": "ipython",
    "version": 3
   },
   "file_extension": ".py",
   "mimetype": "text/x-python",
   "name": "python",
   "nbconvert_exporter": "python",
   "pygments_lexer": "ipython3",
   "version": "3.9.7"
  }
 },
 "nbformat": 4,
 "nbformat_minor": 5
}
